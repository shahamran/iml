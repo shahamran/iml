{
 "cells": [
  {
   "cell_type": "markdown",
   "metadata": {
    "deletable": true,
    "editable": true
   },
   "source": [
    "## Solving MNIST with TensorFlow"
   ]
  },
  {
   "cell_type": "code",
   "execution_count": 1,
   "metadata": {
    "collapsed": true,
    "deletable": true,
    "editable": true
   },
   "outputs": [],
   "source": [
    "import numpy as np\n",
    "import tensorflow as tf\n",
    "from tensorflow.examples.tutorials.mnist import input_data\n",
    "import matplotlib.pyplot as plt"
   ]
  },
  {
   "cell_type": "markdown",
   "metadata": {
    "deletable": true,
    "editable": true
   },
   "source": [
    "Load the MNIST data:"
   ]
  },
  {
   "cell_type": "code",
   "execution_count": 2,
   "metadata": {
    "collapsed": false,
    "deletable": true,
    "editable": true
   },
   "outputs": [
    {
     "name": "stdout",
     "output_type": "stream",
     "text": [
      "Extracting ../MNIST_data/train-images-idx3-ubyte.gz\n",
      "Extracting ../MNIST_data/train-labels-idx1-ubyte.gz\n",
      "Extracting ../MNIST_data/t10k-images-idx3-ubyte.gz\n",
      "Extracting ../MNIST_data/t10k-labels-idx1-ubyte.gz\n"
     ]
    }
   ],
   "source": [
    "BATCH_SIZE = 100\n",
    "eta = 0.001\n",
    "data_dir = '../MNIST_data/'\n",
    "mnist = input_data.read_data_sets(data_dir,\n",
    "                                  one_hot=True,\n",
    "                                  fake_data=False)"
   ]
  },
  {
   "cell_type": "markdown",
   "metadata": {
    "deletable": true,
    "editable": true
   },
   "source": [
    "Let's see what we have here:"
   ]
  },
  {
   "cell_type": "code",
   "execution_count": 4,
   "metadata": {
    "collapsed": false,
    "deletable": true,
    "editable": true
   },
   "outputs": [
    {
     "name": "stdout",
     "output_type": "stream",
     "text": [
      "(55000, 784)\n"
     ]
    }
   ],
   "source": [
    "print mnist.train.images.shape"
   ]
  },
  {
   "cell_type": "code",
   "execution_count": 5,
   "metadata": {
    "collapsed": false,
    "deletable": true,
    "editable": true
   },
   "outputs": [
    {
     "name": "stdout",
     "output_type": "stream",
     "text": [
      "   0   0   0   0   0   0   0   0   0   0   0   0   0   0   0   0   0   0   0   0   0   0   0   0   0   0   0   0\n",
      "   0   0   0   0   0   0   0   0   0   0   0   0   0   0   0   0   0   0   0   0   0   0   0   0   0   0   0   0\n",
      "   0   0   0   0   0   0   0   0   0   0   0   0   0   0   0   0   0   0   0   0   0   0   0   0   0   0   0   0\n",
      "   0   0   0   0   0   0   0   0   0   0   0   0   0   0   0   0   0   0   0   0   0   0   0   0   0   0   0   0\n",
      "   0   0   0   0   0   0   0   0   0   0   0   0   0   0   0   0   0   0   0   0   0   0   0   0   0   0   0   0\n",
      "   0   0   0   0   0   0   0   0   0   0   0   0   0  12  51  99  99  99  83  32   0   0   0   0   0   0   0   0\n",
      "   0   0   0   0   0   0   0   0   0   0   0   8  55  91  98  99  98  99  98  87   7   0   0   0   0   0   0   0\n",
      "   0   0   0   0   0   0   0   0   0   0  48  99  99  99  99  87  79  79  87 100  83   0   0   0   0   0   0   0\n",
      "   0   0   0   0   0   0   0   0   0   0  79  99  98  99  83   7   0   0  23  99  98   0   0   0   0   0   0   0\n",
      "   0   0   0   0   0   0   0   0   0  16  95  87  79  71  16  59  11   0   0 100  99  40   0   0   0   0   0   0\n",
      "   0   0   0   0   0   0   0   0   0   0  15   7   0   0  40  99  19   0  32  99  98   7   0   0   0   0   0   0\n",
      "   0   0   0   0   0   0   0   0   0   0   0   0   0   0  32  83  12  44  91  99  91   0   0   0   0   0   0   0\n",
      "   0   0   0   0   0   0   0   0   0   0   0  24  40  32  16  99  90  99  98  91  19   0   0   0   0   0   0   0\n",
      "   0   0   0   0   0   0   0   0   0   0   0  59  99  99  99  99  99  99  91  48   0   0   0   0   0   0   0   0\n",
      "   0   0   0   0   0   0   0   0   0   0   0  59  98  99  98  99  98  75  19   0   0   0   0   0   0   0   0   0\n",
      "   0   0   0   0   0   0   0   0   0   0   0  24  71  79  95  99  99  24   0   0   0   0   0   0   0   0   0   0\n",
      "   0   0   0   0   0   0   0   0   0   0   0   0   0   0  15  67  98  79   7   0   0   0   0   0   0   0   0   0\n",
      "   0   0   0   0   0   0   8   0   0   0   0   0   0   0   0   0  71  99  43   0   0   0   0   0   0   0   0   0\n",
      "   0   0   0   0   0  24  79  63   0   0   0   0   0   0   0   0  23  99  59   0   0   0   0   0   0   0   0   0\n",
      "   0   0   0   0   8  83  75   0   0   0   0   0   0   0   0   4  83  99  59   0   0   0   0   0   0   0   0   0\n",
      "   0   0   0   0  40  99  59   0   0   0   0   0   0   0  16  83  98  99  43   0   0   0   0   0   0   0   0   0\n",
      "   0   0   0   0  16 100  83  36  20   0   0  12  36  67  99  99  99  55   0   0   0   0   0   0   0   0   0   0\n",
      "   0   0   0   0   0  67  98  99  98  79  79  91  98  99  98  99  50   7   0   0   0   0   0   0   0   0   0   0\n",
      "   0   0   0   0   0   8  79 100  99  99  99  99  99  95  79  32   0   0   0   0   0   0   0   0   0   0   0   0\n",
      "   0   0   0   0   0   0   7  59  59  99  67  59  59  15   0   0   0   0   0   0   0   0   0   0   0   0   0   0\n",
      "   0   0   0   0   0   0   0   0   0   0   0   0   0   0   0   0   0   0   0   0   0   0   0   0   0   0   0   0\n",
      "   0   0   0   0   0   0   0   0   0   0   0   0   0   0   0   0   0   0   0   0   0   0   0   0   0   0   0   0\n",
      "   0   0   0   0   0   0   0   0   0   0   0   0   0   0   0   0   0   0   0   0   0   0   0   0   0   0   0   0\n"
     ]
    }
   ],
   "source": [
    "def matrix_show(image):\n",
    "    for y in image:\n",
    "        print ''.join(['%4d'%x for x in y])\n",
    "matrix_show(100*mnist.train.images[1].reshape((28,28)))"
   ]
  },
  {
   "cell_type": "code",
   "execution_count": 6,
   "metadata": {
    "collapsed": false,
    "deletable": true,
    "editable": true,
    "scrolled": true
   },
   "outputs": [
    {
     "data": {
      "image/png": "[encoded data removed]",
      "text/plain": [
       "<matplotlib.figure.Figure at 0x1158dfd50>"
      ]
     },
     "metadata": {},
     "output_type": "display_data"
    },
    {
     "name": "stdout",
     "output_type": "stream",
     "text": [
      "[ 0.  0.  0.  1.  0.  0.  0.  0.  0.  0.]\n"
     ]
    }
   ],
   "source": [
    "plt.imshow(mnist.train.images[1].reshape((28,28)), cmap='gray')\n",
    "plt.show()\n",
    "print mnist.train.labels[1]"
   ]
  },
  {
   "cell_type": "code",
   "execution_count": 7,
   "metadata": {
    "collapsed": false,
    "deletable": true,
    "editable": true
   },
   "outputs": [
    {
     "data": {
      "text/plain": [
       "(5000, 784)"
      ]
     },
     "execution_count": 7,
     "metadata": {},
     "output_type": "execute_result"
    }
   ],
   "source": [
    "mnist.validation.images.shape"
   ]
  },
  {
   "cell_type": "code",
   "execution_count": 8,
   "metadata": {
    "collapsed": false,
    "deletable": true,
    "editable": true
   },
   "outputs": [
    {
     "data": {
      "text/plain": [
       "(10000, 784)"
      ]
     },
     "execution_count": 8,
     "metadata": {},
     "output_type": "execute_result"
    }
   ],
   "source": [
    "mnist.test.images.shape"
   ]
  },
  {
   "cell_type": "code",
   "execution_count": 10,
   "metadata": {
    "collapsed": false,
    "deletable": true,
    "editable": true
   },
   "outputs": [
    {
     "data": {
      "image/png": "[encoded data removed]",
      "text/plain": [
       "<matplotlib.figure.Figure at 0x115d08f50>"
      ]
     },
     "metadata": {},
     "output_type": "display_data"
    }
   ],
   "source": [
    "def show_images(imgs, labels):\n",
    "    N=imgs.shape[0]\n",
    "    w=int(np.ceil(np.sqrt(N)))\n",
    "    h=N/w\n",
    "    imgs.shape=(N, 28,28)\n",
    "\n",
    "    rows = [ np.hstack(imgs[i:i+w,:,:]) for i in range(0,w*h, w)]\n",
    "    tiled = np.vstack(rows)\n",
    "    plt.imshow(1.0 - tiled, cmap='gray')\n",
    "    \n",
    "    labels=np.argmax(labels, axis=1)\n",
    "    for i in range(w):\n",
    "        for j in range(h):\n",
    "            plt.text(i*28, 14+j*28, '%s'%labels[j*w+i], color=(1,0,0))\n",
    "    plt.show()\n",
    "#%pylab inline\n",
    "#pylab.rcParams['figure.figsize'] = (10,10)  \n",
    "idx = np.random.randint(0, 55000, 25)\n",
    "show_images(mnist.train.images[idx], mnist.train.labels[idx])"
   ]
  },
  {
   "cell_type": "markdown",
   "metadata": {
    "deletable": true,
    "editable": true
   },
   "source": [
    "# Define a graph to classify images"
   ]
  },
  {
   "cell_type": "code",
   "execution_count": 11,
   "metadata": {
    "collapsed": true,
    "deletable": true,
    "editable": true
   },
   "outputs": [],
   "source": [
    "with tf.name_scope('input'):\n",
    "    x = tf.placeholder(tf.float32, [None, 784], name='x')\n",
    "    y = tf.placeholder(tf.float32, [None, 10], name='y')"
   ]
  },
  {
   "cell_type": "markdown",
   "metadata": {
    "deletable": true,
    "editable": true
   },
   "source": [
    "Define some useful functions:"
   ]
  },
  {
   "cell_type": "code",
   "execution_count": 12,
   "metadata": {
    "collapsed": true,
    "deletable": true,
    "editable": true
   },
   "outputs": [],
   "source": [
    "def variable_summaries(var):\n",
    "    \"\"\"Attach a lot of summaries to a Tensor (for TensorBoard visualization).\"\"\"\n",
    "    with tf.name_scope('summaries'):\n",
    "      mean = tf.reduce_mean(var)\n",
    "      tf.summary.scalar('mean', mean)\n",
    "      with tf.name_scope('stddev'):\n",
    "        stddev = tf.sqrt(tf.reduce_mean(tf.square(var - mean)))\n",
    "      tf.summary.scalar('stddev', stddev)\n",
    "      tf.summary.scalar('max', tf.reduce_max(var))\n",
    "      tf.summary.scalar('min', tf.reduce_min(var))\n",
    "      tf.summary.histogram('histogram', var)"
   ]
  },
  {
   "cell_type": "code",
   "execution_count": 13,
   "metadata": {
    "collapsed": true,
    "deletable": true,
    "editable": true
   },
   "outputs": [],
   "source": [
    "def affine_layer(input_tensor, output_dim, layer_name, act=tf.nn.relu):\n",
    "    \"\"\"\n",
    "    Build one simple Affine layer: y = W*x + b\n",
    "    Adds non-linearity and collects statistics\n",
    "    \"\"\"\n",
    "    input_shape = input_tensor.get_shape().as_list()\n",
    "    input_dim = input_shape[-1]\n",
    "\n",
    "    # Adding a name scope ensures logical grouping of the layers in the graph.\n",
    "    with tf.name_scope(layer_name):\n",
    "        # This Variable will hold the state of the weights for the layer\n",
    "        with tf.name_scope('weights'):\n",
    "            shape = [input_dim, output_dim]\n",
    "            init = tf.truncated_normal(shape, stddev=0.1)\n",
    "            weights = tf.Variable(init)\n",
    "            #variable_summaries(weights)\n",
    "        with tf.name_scope('biases'):\n",
    "            initial = tf.constant(0.1, shape=[output_dim])\n",
    "            biases = tf.Variable(initial)\n",
    "            #variable_summaries(biases)\n",
    "        with tf.name_scope('Wx_plus_b'):\n",
    "            preactivate = tf.matmul(input_tensor, weights) + biases\n",
    "            #tf.summary.histogram('pre_activations', preactivate)\n",
    "    activations = act(preactivate, name='activation')\n",
    "    #tf.summary.histogram('activations', activations)\n",
    "    print \"Added Affine layer %d -> %d with %s\" % (input_dim, output_dim, act.func_name)\n",
    "    return activations"
   ]
  },
  {
   "cell_type": "markdown",
   "metadata": {
    "deletable": true,
    "editable": true
   },
   "source": [
    "### Define our simple network"
   ]
  },
  {
   "cell_type": "code",
   "execution_count": 14,
   "metadata": {
    "collapsed": false,
    "deletable": true,
    "editable": true
   },
   "outputs": [
    {
     "name": "stdout",
     "output_type": "stream",
     "text": [
      "Added Affine layer 784 -> 500 with relu\n",
      "Added Affine layer 500 -> 10 with identity\n"
     ]
    }
   ],
   "source": [
    "hidden = affine_layer(x, 500, 'hidden')\n",
    "prediction = affine_layer(hidden, 10, 'pred', act=tf.identity)"
   ]
  },
  {
   "cell_type": "code",
   "execution_count": 15,
   "metadata": {
    "collapsed": true,
    "deletable": true,
    "editable": true
   },
   "outputs": [],
   "source": [
    "sess = tf.InteractiveSession()"
   ]
  },
  {
   "cell_type": "markdown",
   "metadata": {
    "deletable": true,
    "editable": true
   },
   "source": [
    "We built an \"inference\" function that receives a batch of images and returns a tensorflow object of the prediction. \n",
    "\n",
    "The next component is creating a loss function."
   ]
  },
  {
   "cell_type": "code",
   "execution_count": 17,
   "metadata": {
    "collapsed": true,
    "deletable": true,
    "editable": true
   },
   "outputs": [],
   "source": [
    "def create_loss(predict, labels):\n",
    "    # The raw formulation of cross-entropy,\n",
    "    #\n",
    "    # tf.reduce_mean(-tf.reduce_sum(y_ * tf.log(tf.softmax(y)),\n",
    "    #                               reduction_indices=[1]))\n",
    "    #\n",
    "    # can be numerically unstable.\n",
    "    #\n",
    "    # So here we use tf.nn.softmax_cross_entropy_with_logits on the\n",
    "    # raw outputs of the nn_layer above, and then average across\n",
    "    # the batch.\n",
    "    diff = tf.nn.softmax_cross_entropy_with_logits(labels=labels, \n",
    "                                                   logits=predict)\n",
    "    with tf.name_scope('total'):\n",
    "        cross_entropy = tf.reduce_mean(diff)\n",
    "    tf.summary.scalar('cross_entropy', cross_entropy)\n",
    "    return cross_entropy\n",
    "  "
   ]
  },
  {
   "cell_type": "code",
   "execution_count": 18,
   "metadata": {
    "collapsed": true,
    "deletable": true,
    "editable": true
   },
   "outputs": [],
   "source": [
    "loss = create_loss(prediction, y)"
   ]
  },
  {
   "cell_type": "code",
   "execution_count": 19,
   "metadata": {
    "collapsed": true,
    "deletable": true,
    "editable": true
   },
   "outputs": [],
   "source": [
    "with tf.name_scope('train'):\n",
    "    train_step = tf.train.AdamOptimizer(eta).minimize(loss)\n",
    "    #train_step = tf.train.GradientDescentOptimizer(eta).minimize(loss)"
   ]
  },
  {
   "cell_type": "code",
   "execution_count": 20,
   "metadata": {
    "collapsed": false,
    "deletable": true,
    "editable": true
   },
   "outputs": [],
   "source": [
    "correct_prediction = tf.equal(tf.argmax(y, 1), tf.argmax(prediction, 1))\n",
    "accuracy = 100.0 * tf.reduce_mean(tf.cast(correct_prediction, tf.float32))\n",
    "tf.summary.scalar('accuracy', accuracy)\n",
    "merged = tf.summary.merge_all()"
   ]
  },
  {
   "cell_type": "markdown",
   "metadata": {
    "deletable": true,
    "editable": true
   },
   "source": [
    "Merge all the summaries and start training:"
   ]
  },
  {
   "cell_type": "code",
   "execution_count": 21,
   "metadata": {
    "collapsed": true,
    "deletable": true,
    "editable": true
   },
   "outputs": [],
   "source": [
    "log_dir = './tensorboard/'\n",
    "if tf.gfile.Exists(log_dir):  # Delete previous runs\n",
    "    import shutil\n",
    "    shutil.rmtree(log_dir)\n",
    "tf.gfile.MakeDirs(log_dir)\n",
    "\n",
    "train_writer = tf.summary.FileWriter(log_dir + '/train', sess.graph)\n",
    "test_writer = tf.summary.FileWriter(log_dir + '/test')\n",
    "\n",
    "tf.global_variables_initializer().run()"
   ]
  },
  {
   "cell_type": "code",
   "execution_count": 22,
   "metadata": {
    "collapsed": false,
    "deletable": true,
    "editable": true
   },
   "outputs": [
    {
     "name": "stdout",
     "output_type": "stream",
     "text": [
      "Accuracy at iteration    0:  13.25%  (train is    8.0%)\n",
      "Accuracy at iteration   20:  84.33%  (train is   64.5%)\n",
      "Accuracy at iteration   40:  88.34%  (train is  85.65%)\n",
      "Accuracy at iteration   60:  90.43%  (train is   87.7%)\n",
      "Accuracy at iteration   80:  91.21%  (train is   90.3%)\n",
      "Accuracy at iteration  100:  91.69%  (train is   91.7%)\n",
      "Accuracy at iteration  120:  92.02%  (train is   92.9%)\n",
      "Accuracy at iteration  140:  92.68%  (train is   91.8%)\n",
      "Accuracy at iteration  160:  93.09%  (train is  92.85%)\n",
      "Accuracy at iteration  180:  93.62%  (train is  92.35%)\n",
      "Accuracy at iteration  200:  93.61%  (train is  93.45%)\n",
      "Accuracy at iteration  220:  93.96%  (train is   92.9%)\n",
      "Accuracy at iteration  240:  94.21%  (train is  93.45%)\n",
      "Accuracy at iteration  260:  94.39%  (train is  94.55%)\n",
      "Accuracy at iteration  280:  94.45%  (train is  93.05%)\n",
      "Accuracy at iteration  300:  94.51%  (train is   95.0%)\n",
      "Accuracy at iteration  320:  93.96%  (train is  94.35%)\n",
      "Accuracy at iteration  340:  94.98%  (train is  94.55%)\n",
      "Accuracy at iteration  360:  95.01%  (train is   94.4%)\n",
      "Accuracy at iteration  380:  95.24%  (train is   94.1%)\n",
      "Accuracy at iteration  400:   95.0%  (train is  94.55%)\n",
      "Accuracy at iteration  420:   95.5%  (train is  95.05%)\n",
      "Accuracy at iteration  440:  95.28%  (train is   95.2%)\n",
      "Accuracy at iteration  460:  95.49%  (train is   95.4%)\n",
      "Accuracy at iteration  480:  95.72%  (train is   95.8%)\n",
      "Accuracy at iteration  500:  95.85%  (train is  94.65%)\n",
      "Accuracy at iteration  520:   95.9%  (train is  95.85%)\n",
      "Accuracy at iteration  540:  95.92%  (train is  95.05%)\n",
      "Accuracy at iteration  560:  96.13%  (train is  95.85%)\n",
      "Accuracy at iteration  580:  96.14%  (train is   96.4%)\n",
      "Accuracy at iteration  600:  96.33%  (train is   96.4%)\n",
      "Accuracy at iteration  620:  96.37%  (train is   96.3%)\n",
      "Accuracy at iteration  640:  96.31%  (train is   97.0%)\n",
      "Accuracy at iteration  660:  96.34%  (train is  96.65%)\n",
      "Accuracy at iteration  680:  96.44%  (train is   96.8%)\n",
      "Accuracy at iteration  700:  96.43%  (train is   96.8%)\n",
      "Accuracy at iteration  720:  96.54%  (train is  96.65%)\n",
      "Accuracy at iteration  740:   96.5%  (train is  96.25%)\n",
      "Accuracy at iteration  760:  96.36%  (train is   97.2%)\n",
      "Accuracy at iteration  780:   96.3%  (train is  96.55%)\n",
      "Accuracy at iteration  800:  96.45%  (train is  96.85%)\n",
      "Accuracy at iteration  820:  96.61%  (train is   96.9%)\n",
      "Accuracy at iteration  840:  96.39%  (train is  95.85%)\n",
      "Accuracy at iteration  860:   96.7%  (train is   96.5%)\n",
      "Accuracy at iteration  880:  96.79%  (train is   97.3%)\n",
      "Accuracy at iteration  900:  96.85%  (train is  97.65%)\n",
      "Accuracy at iteration  920:   96.6%  (train is   96.8%)\n",
      "Accuracy at iteration  940:  96.91%  (train is  96.95%)\n",
      "Accuracy at iteration  960:  96.99%  (train is   97.0%)\n",
      "Accuracy at iteration  980:  96.84%  (train is  97.25%)\n"
     ]
    }
   ],
   "source": [
    "acc_list = []\n",
    "for i in range(1000):\n",
    "    xs, ys = mnist.train.next_batch(BATCH_SIZE)\n",
    "    ys = ys.astype(np.float32)\n",
    "    summary, acc, _ = sess.run([merged, accuracy, train_step], \n",
    "                               feed_dict={x:xs, y:ys})\n",
    "    acc_list.append(acc)\n",
    "    train_writer.add_summary(summary, i)\n",
    "    if i % 20 == 0:   # Measure accuracy on the test set\n",
    "        summary, test_acc = sess.run([merged, accuracy], \n",
    "                                     feed_dict={x:mnist.test.images, \n",
    "                                                y:mnist.test.labels})\n",
    "        test_writer.add_summary(summary, i)\n",
    "        print('Accuracy at iteration %4d: %6s%%  (train is %6s%%)' % (i, test_acc, np.mean(acc_list)))\n",
    "        acc_list=[]\n",
    "train_writer.flush()\n",
    "test_writer.flush()    "
   ]
  },
  {
   "cell_type": "markdown",
   "metadata": {
    "deletable": true,
    "editable": true
   },
   "source": [
    "### (tensorBoard)"
   ]
  },
  {
   "cell_type": "markdown",
   "metadata": {
    "deletable": true,
    "editable": true
   },
   "source": [
    "# Let's look at some predictions"
   ]
  },
  {
   "cell_type": "code",
   "execution_count": 23,
   "metadata": {
    "collapsed": true,
    "deletable": true,
    "editable": true,
    "scrolled": false
   },
   "outputs": [],
   "source": [
    "xs, ys = mnist.test.next_batch(BATCH_SIZE)\n",
    "ys = ys.astype(np.float32)"
   ]
  },
  {
   "cell_type": "code",
   "execution_count": 24,
   "metadata": {
    "collapsed": false,
    "deletable": true,
    "editable": true
   },
   "outputs": [
    {
     "name": "stdout",
     "output_type": "stream",
     "text": [
      "2\n"
     ]
    }
   ],
   "source": [
    "pred = sess.run(prediction, feed_dict={x:xs})\n",
    "errors = np.argmax(pred, axis=1) != np.argmax(ys, axis=1)\n",
    "print np.sum(errors)"
   ]
  },
  {
   "cell_type": "code",
   "execution_count": 25,
   "metadata": {
    "collapsed": false,
    "deletable": true,
    "editable": true
   },
   "outputs": [
    {
     "data": {
      "image/png": "[encoded data removed]",
      "text/plain": [
       "<matplotlib.figure.Figure at 0x115f0dd90>"
      ]
     },
     "metadata": {},
     "output_type": "display_data"
    }
   ],
   "source": [
    "show_images(xs, pred)"
   ]
  },
  {
   "cell_type": "code",
   "execution_count": 26,
   "metadata": {
    "collapsed": false,
    "deletable": true,
    "editable": true
   },
   "outputs": [
    {
     "data": {
      "text/plain": [
       "(array([17, 53]),)"
      ]
     },
     "execution_count": 26,
     "metadata": {},
     "output_type": "execute_result"
    }
   ],
   "source": [
    "np.nonzero(errors)"
   ]
  },
  {
   "cell_type": "code",
   "execution_count": 27,
   "metadata": {
    "collapsed": true,
    "deletable": true,
    "editable": true
   },
   "outputs": [],
   "source": [
    "pred = sess.run(prediction, feed_dict={x:mnist.test.images})"
   ]
  },
  {
   "cell_type": "code",
   "execution_count": 29,
   "metadata": {
    "collapsed": false,
    "deletable": true,
    "editable": true
   },
   "outputs": [
    {
     "name": "stdout",
     "output_type": "stream",
     "text": [
      "(304, 784)\n",
      "Error rate is 3.04%\n"
     ]
    },
    {
     "data": {
      "image/png": "[encoded data removed]",
      "text/plain": [
       "<matplotlib.figure.Figure at 0x115c87690>"
      ]
     },
     "metadata": {},
     "output_type": "display_data"
    }
   ],
   "source": [
    "errors = np.argmax(mnist.test.labels, axis=1) != np.argmax(pred, axis=1)\n",
    "errors = np.nonzero(errors)\n",
    "xs = mnist.test.images[errors]\n",
    "ys = pred[errors]\n",
    "print xs.shape\n",
    "print 'Error rate is %.2f%%'%(100.0*len(xs) / len(mnist.test.labels))\n",
    "show_images(xs[:100], ys[:100])"
   ]
  },
  {
   "cell_type": "markdown",
   "metadata": {
    "deletable": true,
    "editable": true
   },
   "source": [
    "So we have a simple, nearly linear, classifier"
   ]
  },
  {
   "cell_type": "markdown",
   "metadata": {
    "deletable": true,
    "editable": true
   },
   "source": [
    "# LeNet"
   ]
  },
  {
   "cell_type": "markdown",
   "metadata": {
    "deletable": true,
    "editable": true
   },
   "source": [
    "Lenet has convolutions and max-pooling layers\n",
    "\n",
    "Let's reset TensorFlow:"
   ]
  },
  {
   "cell_type": "code",
   "execution_count": 30,
   "metadata": {
    "collapsed": true,
    "deletable": true,
    "editable": true
   },
   "outputs": [],
   "source": [
    "with tf.name_scope('input'):\n",
    "    x = tf.placeholder(tf.float32, [None, 784], name='x-input')\n",
    "    y = tf.placeholder(tf.float32, [None, 10], name='y-input')"
   ]
  },
  {
   "cell_type": "markdown",
   "metadata": {
    "deletable": true,
    "editable": true
   },
   "source": [
    "Define a convolutional layer:"
   ]
  },
  {
   "cell_type": "code",
   "execution_count": 31,
   "metadata": {
    "collapsed": true,
    "deletable": true,
    "editable": true
   },
   "outputs": [],
   "source": [
    "def conv_layer(input_tensor, output_channels, layer_name, \n",
    "               ksize=5, stride=1, act=tf.nn.relu):\n",
    "    input_shape = input_tensor.get_shape().as_list()\n",
    "    input_channels = input_shape[-1]\n",
    "    with tf.name_scope(layer_name):\n",
    "        weights = tf.Variable(\n",
    "            tf.truncated_normal([ksize, ksize, input_channels, \n",
    "                                 output_channels],\n",
    "                                stddev=1.0 / np.sqrt(float(input_channels))),name='weights')\n",
    "        biases = tf.Variable(tf.zeros([output_channels]),name='biases')\n",
    "        c = tf.nn.conv2d(input_tensor, weights, \n",
    "                         strides=[1, stride, stride, 1], padding='SAME') + biases\n",
    "        print \"Added Conv layer %dx%dx %d --%dx%d--> %d with %s\" % (input_shape[1], input_shape[2], input_shape[3], \n",
    "                                                                    ksize, ksize,\n",
    "                                                                    output_channels, act.func_name)\n",
    "        return act(c)\n",
    "\n",
    "def flatten_layer(x, layer_name):\n",
    "    x_shape = x.get_shape().as_list()\n",
    "    new_shape = [-1, np.product(x_shape[1:])]\n",
    "    print \"Added Flatten layer %dx%d%d -> %d\"% (x_shape[1], x_shape[2], x_shape[3], new_shape[1])\n",
    "    with tf.name_scope(layer_name):\n",
    "        out = tf.reshape(x, new_shape)\n",
    "    return out"
   ]
  },
  {
   "cell_type": "code",
   "execution_count": 32,
   "metadata": {
    "collapsed": true,
    "deletable": true,
    "editable": true
   },
   "outputs": [],
   "source": [
    "def inference(x):\n",
    "    images = tf.reshape(x, [-1, 28, 28, 1])\n",
    "    #tf.summary.image('input', images, 10)\n",
    "    conv1 = conv_layer(images, 20, 'conv1', ksize=3) #, act=tf.identity)\n",
    "    pool1 = tf.nn.max_pool(conv1, ksize=[1, 2, 2, 1],strides=[1, 2, 2, 1], padding='SAME') \n",
    "    conv2 = conv_layer(pool1, 50, 'conv2', ksize=3) # , act=tf.identity)\n",
    "    pool2 = tf.nn.max_pool(conv2, ksize=[1, 2, 2, 1],strides=[1, 2, 2, 1], padding='SAME')\n",
    "    flat_pool = flatten_layer(pool2, 'flatten')\n",
    "    aff = affine_layer(flat_pool, 500, 'affine')\n",
    "    predict = affine_layer(aff, 10, 'predict', act=tf.identity)\n",
    "    return predict"
   ]
  },
  {
   "cell_type": "code",
   "execution_count": 34,
   "metadata": {
    "collapsed": false,
    "deletable": true,
    "editable": true
   },
   "outputs": [
    {
     "name": "stdout",
     "output_type": "stream",
     "text": [
      "Added Conv layer 28x28x 1 --3x3--> 20 with relu\n",
      "Added Conv layer 14x14x 20 --3x3--> 50 with relu\n",
      "Added Flatten layer 7x750 -> 2450\n",
      "Added Affine layer 2450 -> 500 with relu\n",
      "Added Affine layer 500 -> 10 with identity\n"
     ]
    }
   ],
   "source": [
    "prediction = inference(x)"
   ]
  },
  {
   "cell_type": "markdown",
   "metadata": {
    "deletable": true,
    "editable": true
   },
   "source": [
    "Redefine the loss etc:"
   ]
  },
  {
   "cell_type": "code",
   "execution_count": 35,
   "metadata": {
    "collapsed": true,
    "deletable": true,
    "editable": true
   },
   "outputs": [],
   "source": [
    "loss = create_loss(prediction, y)\n",
    "train_step = tf.train.AdamOptimizer(eta).minimize(loss)\n",
    "#train_step = tf.train.GradientDescentOptimizer(eta).minimize(loss)\n",
    "correct_prediction = tf.equal(tf.argmax(y, 1), tf.argmax(prediction, 1))\n",
    "accuracy = 100.0 * tf.reduce_mean(tf.cast(correct_prediction, tf.float32))\n",
    "train_writer = tf.summary.FileWriter(log_dir + '/trainLenet', sess.graph)\n",
    "test_writer = tf.summary.FileWriter(log_dir + '/testLenet')\n",
    "\n",
    "tf.global_variables_initializer().run()"
   ]
  },
  {
   "cell_type": "code",
   "execution_count": 36,
   "metadata": {
    "collapsed": false,
    "deletable": true,
    "editable": true
   },
   "outputs": [
    {
     "name": "stdout",
     "output_type": "stream",
     "text": [
      "Accuracy at iteration   0:  15.26  (train is    5.0)\n",
      "Accuracy at iteration  20:  73.09  (train is   57.7)\n",
      "Accuracy at iteration  40:  88.83  (train is   81.3)\n",
      "Accuracy at iteration  60:  90.84  (train is  87.85)\n",
      "Accuracy at iteration  80:  91.57  (train is   91.2)\n",
      "Accuracy at iteration 100:  93.58  (train is   92.3)\n",
      "Accuracy at iteration 120:  93.45  (train is   93.2)\n",
      "Accuracy at iteration 140:  93.19  (train is  93.55)\n",
      "Accuracy at iteration 160:  93.85  (train is  93.25)\n",
      "Accuracy at iteration 180:  93.24  (train is  93.95)\n",
      "Accuracy at iteration 200:  95.46  (train is  94.35)\n",
      "Accuracy at iteration 220:  96.09  (train is  95.65)\n",
      "Accuracy at iteration 240:  95.11  (train is  95.05)\n",
      "Accuracy at iteration 260:  95.73  (train is   95.3)\n",
      "Accuracy at iteration 280:  96.05  (train is   95.8)\n",
      "Accuracy at iteration 300:  96.33  (train is  96.05)\n",
      "Accuracy at iteration 320:  95.76  (train is   95.9)\n",
      "Accuracy at iteration 340:  96.41  (train is   95.0)\n",
      "Accuracy at iteration 360:  96.57  (train is  95.85)\n",
      "Accuracy at iteration 380:  96.41  (train is  96.75)\n",
      "Accuracy at iteration 400:   96.6  (train is  95.85)\n",
      "Accuracy at iteration 420:  95.48  (train is   96.0)\n",
      "Accuracy at iteration 440:  96.84  (train is  96.45)\n",
      "Accuracy at iteration 460:  96.62  (train is  95.95)\n",
      "Accuracy at iteration 480:  97.52  (train is   96.4)\n",
      "Accuracy at iteration 500:  97.48  (train is   97.1)\n",
      "Accuracy at iteration 520:  97.49  (train is  96.65)\n",
      "Accuracy at iteration 540:  97.46  (train is  96.95)\n",
      "Accuracy at iteration 560:  96.27  (train is   97.1)\n",
      "Accuracy at iteration 580:  97.56  (train is   96.7)\n",
      "Accuracy at iteration 600:  97.22  (train is   97.1)\n",
      "Accuracy at iteration 620:  97.41  (train is   97.2)\n",
      "Accuracy at iteration 640:  96.83  (train is   96.4)\n",
      "Accuracy at iteration 660:  97.28  (train is  97.25)\n",
      "Accuracy at iteration 680:  97.09  (train is  97.55)\n",
      "Accuracy at iteration 700:  97.49  (train is   97.6)\n",
      "Accuracy at iteration 720:  97.37  (train is  97.65)\n",
      "Accuracy at iteration 740:   97.6  (train is   98.4)\n",
      "Accuracy at iteration 760:  97.41  (train is   98.4)\n",
      "Accuracy at iteration 780:  97.56  (train is  98.55)\n",
      "Accuracy at iteration 800:  97.81  (train is   97.9)\n",
      "Accuracy at iteration 820:  97.78  (train is  97.55)\n",
      "Accuracy at iteration 840:  97.59  (train is   98.1)\n",
      "Accuracy at iteration 860:  97.72  (train is  97.95)\n",
      "Accuracy at iteration 880:  97.42  (train is   98.0)\n",
      "Accuracy at iteration 900:  97.95  (train is   98.4)\n",
      "Accuracy at iteration 920:  98.19  (train is   98.0)\n",
      "Accuracy at iteration 940:  97.68  (train is  98.95)\n",
      "Accuracy at iteration 960:  98.09  (train is  97.75)\n",
      "Accuracy at iteration 980:  97.25  (train is   98.3)\n"
     ]
    }
   ],
   "source": [
    "acc_list = []\n",
    "for i in range(1000):\n",
    "    xs, ys = mnist.train.next_batch(BATCH_SIZE)\n",
    "    ys = ys.astype(np.float32)\n",
    "    acc, _ = sess.run([accuracy, train_step], feed_dict={x:xs, y:ys})\n",
    "    acc_list.append(acc)\n",
    "    summary = tf.Summary(value=[tf.Summary.Value(tag='accuracy', simple_value=acc)])\n",
    "    train_writer.add_summary(summary, i)\n",
    "    if i % 20 == 0:   # Measure accuracy on the test set\n",
    "        test_acc = sess.run(accuracy, feed_dict={x:mnist.test.images, y:mnist.test.labels})\n",
    "        summary = tf.Summary(value=[tf.Summary.Value(tag='accuracy', simple_value=test_acc)])\n",
    "        test_writer.add_summary(summary, i)\n",
    "        print 'Accuracy at iteration %3d: %6s  (train is %6s)' % (i, test_acc, np.mean(acc_list))\n",
    "        acc_list = []\n",
    "train_writer.flush()\n",
    "test_writer.flush()\n"
   ]
  },
  {
   "cell_type": "code",
   "execution_count": 37,
   "metadata": {
    "collapsed": false,
    "deletable": true,
    "editable": true
   },
   "outputs": [
    {
     "name": "stdout",
     "output_type": "stream",
     "text": [
      "(247, 784)\n",
      "Error rate is 2.47%\n"
     ]
    },
    {
     "data": {
      "image/png": "[encoded data removed]",
      "text/plain": [
       "<matplotlib.figure.Figure at 0x116d08890>"
      ]
     },
     "metadata": {},
     "output_type": "display_data"
    }
   ],
   "source": [
    "pred = sess.run(prediction, feed_dict={x:mnist.test.images})\n",
    "errors = np.argmax(mnist.test.labels, axis=1) != np.argmax(pred, axis=1)\n",
    "errors = np.nonzero(errors)\n",
    "xs = mnist.test.images[errors]\n",
    "ys = pred[errors]\n",
    "print xs.shape\n",
    "print 'Error rate is %.2f%%'%(100.0*len(xs) / len(mnist.test.labels))\n",
    "show_images(xs[:100], ys[:100])"
   ]
  },
  {
   "cell_type": "code",
   "execution_count": null,
   "metadata": {
    "collapsed": true,
    "deletable": true,
    "editable": true
   },
   "outputs": [],
   "source": []
  }
 ],
 "metadata": {
  "kernelspec": {
   "display_name": "Python 2",
   "language": "python",
   "name": "python2"
  },
  "language_info": {
   "codemirror_mode": {
    "name": "ipython",
    "version": 2
   },
   "file_extension": ".py",
   "mimetype": "text/x-python",
   "name": "python",
   "nbconvert_exporter": "python",
   "pygments_lexer": "ipython2",
   "version": "2.7.13"
  }
 },
 "nbformat": 4,
 "nbformat_minor": 2
}
